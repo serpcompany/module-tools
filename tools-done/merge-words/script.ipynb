{
 "cells": [
  {
   "cell_type": "code",
   "execution_count": null,
   "metadata": {},
   "outputs": [],
   "source": [
    "import random\n",
    "import csv"
   ]
  },
  {
   "cell_type": "code",
   "execution_count": null,
   "metadata": {},
   "outputs": [],
   "source": [
    "import csv\n",
    "import random\n",
    "\n",
    "# User inputs\n",
    "csv_file_path = \"input.csv\"  # CSV file path\n",
    "mode = int(input(\"Enter mode: 1/2: \"))  # 1 for 2-word combos, 2 for 3-word combo\n",
    "output_file_path = \"combined_words_output.txt\"  # Output file path\n",
    "\n",
    "def print_list_to_file(list_items, file_path):\n",
    "    \"\"\"\n",
    "    Print each item in the provided list to a file, each on a new line.\n",
    "    \n",
    "    Args:\n",
    "    list_items: A list of strings to be printed.\n",
    "    file_path: The path of the file where the list will be printed.\n",
    "    \"\"\"\n",
    "    with open(file_path, 'w') as file:\n",
    "        for item in list_items:\n",
    "            file.write(f\"{item}\\n\")\n",
    "\n",
    "def process_lists_from_csv_mode_based(csv_file_path, output_file_path, mode=1):\n",
    "    # Read lists from CSV\n",
    "    lists_from_csv = [[] for _ in range(3)]  # Initialize 3 lists for simplicity\n",
    "\n",
    "    with open(csv_file_path, mode='r') as file:\n",
    "        csv_reader = csv.reader(file)\n",
    "        for row in csv_reader:\n",
    "            for i, cell in enumerate(row):\n",
    "                if i < len(lists_from_csv) and cell:  # Ensure no index error and cell is not empty\n",
    "                    lists_from_csv[i].append(cell)\n",
    "    \n",
    "    combined_words = []\n",
    "\n",
    "    if mode == 1:  # Mode 1: 2-word combos\n",
    "        for _ in range(max(len(lst) for lst in lists_from_csv)):\n",
    "            selected_lists = random.sample(lists_from_csv, 2)  # Randomly pick 2 lists\n",
    "            word1 = random.choice(selected_lists[0]) if selected_lists[0] else None\n",
    "            word2 = random.choice(selected_lists[1]) if selected_lists[1] else None\n",
    "            if word1 and word2:\n",
    "                combined_words.append(word1 + word2)\n",
    "    elif mode == 2:  # Mode 2: 3-word combos\n",
    "        for _ in range(max(len(lst) for lst in lists_from_csv)):\n",
    "            shuffled_lists = lists_from_csv[:]\n",
    "            random.shuffle(shuffled_lists)  # Shuffle lists to randomize order\n",
    "            words = [random.choice(lst) for lst in shuffled_lists if lst]  # Pick a random word from each list\n",
    "            if len(words) == 3:  # Ensure we have exactly 3 words\n",
    "                combined_words.append(''.join(words))\n",
    "    \n",
    "    # Print the combined list to a file\n",
    "    print_list_to_file(combined_words, output_file_path)\n",
    "\n",
    "    return combined_words\n",
    "\n",
    "# Process lists from the CSV based on the chosen mode and print to a single output file\n",
    "process_lists_from_csv_mode_based(csv_file_path, output_file_path, mode)\n"
   ]
  },
  {
   "cell_type": "markdown",
   "metadata": {},
   "source": [
    "Trim word length"
   ]
  },
  {
   "cell_type": "code",
   "execution_count": null,
   "metadata": {},
   "outputs": [],
   "source": [
    "max_word_length = int(input(\"Enter the maximum word length: \"))  # Ensure conversion to integer\n",
    "input_txt_file = \"combined_words_output.txt\"\n",
    "\n",
    "# Read the combined words from the input_txt_file\n",
    "with open(input_txt_file, 'r') as file:\n",
    "    combined_words = file.readlines()\n",
    "\n",
    "# Print the combined words list before filtering\n",
    "# print(\"Before filtering: \", combined_words)\n",
    "print(\"Max word length allowed: \", max_word_length)\n",
    "\n",
    "# Remove words with length greater than max_word_length\n",
    "combined_words = [word.strip() for word in combined_words if len(word.strip()) <= max_word_length]\n",
    "\n",
    "# Print the combined words list after filtering\n",
    "print(\"After filtering: \", combined_words)\n",
    "\n",
    "output_txt_file = \"filtered_\" + input_txt_file\n",
    "\n",
    "# Write the filtered words to the output file\n",
    "with open(output_txt_file, 'w') as file:\n",
    "    for word in combined_words:\n",
    "        file.write(word + '\\n')\n"
   ]
  }
 ],
 "metadata": {
  "kernelspec": {
   "display_name": ".venv",
   "language": "python",
   "name": "python3"
  },
  "language_info": {
   "codemirror_mode": {
    "name": "ipython",
    "version": 3
   },
   "file_extension": ".py",
   "mimetype": "text/x-python",
   "name": "python",
   "nbconvert_exporter": "python",
   "pygments_lexer": "ipython3",
   "version": "3.12.2"
  }
 },
 "nbformat": 4,
 "nbformat_minor": 2
}
