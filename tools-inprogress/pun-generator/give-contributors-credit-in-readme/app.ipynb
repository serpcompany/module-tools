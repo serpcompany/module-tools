{
 "cells": [
  {
   "cell_type": "code",
   "execution_count": null,
   "metadata": {},
   "outputs": [],
   "source": [
    "import requests\n",
    "import pyperclip"
   ]
  },
  {
   "cell_type": "code",
   "execution_count": null,
   "metadata": {},
   "outputs": [],
   "source": [
    "# Replace this with the repository you want in 'organization-name/repository-name' format\n",
    "repo_name = input(\"what is your org-name/repo-name :\")"
   ]
  },
  {
   "cell_type": "code",
   "execution_count": null,
   "metadata": {},
   "outputs": [],
   "source": [
    "# URL to get the list of contributors\n",
    "url = f\"https://api.github.com/repos/{repo_name}/contributors\"\n",
    "\n",
    "# Send the HTTP request to the URL\n",
    "response = requests.get(url)\n",
    "\n",
    "# Check if the response is valid\n",
    "if response.status_code == 200:\n",
    "    # Parse the JSON response\n",
    "    contributors = response.json()\n",
    "    \n",
    "    # Start the flex container\n",
    "    html_code = '<div style=\"display: flex; flex-wrap: wrap;\">\\n'\n",
    "    \n",
    "    # Output the HTML code for images\n",
    "    for contributor in contributors:\n",
    "        avatar_url = contributor[\"avatar_url\"]\n",
    "        profile_url = contributor[\"html_url\"]\n",
    "        login = contributor[\"login\"]\n",
    "        # Using HTML img tag with inline CSS for styling\n",
    "        # Wrapping each image inside an anchor tag linking to the contributor's profile\n",
    "        html_code += f'  <a href=\"{profile_url}\" target=\"_blank\" style=\"margin: 5px; display: inline-block;\"><img src=\"{avatar_url}\" alt=\"{login}\" style=\"border-radius: 50%; width: 75px; height: 75px;\"></a>\\n'\n",
    "    \n",
    "    # End the flex container\n",
    "    html_code += '</div>\\n'\n",
    "    \n",
    "    # Copy to clipboard\n",
    "    pyperclip.copy(html_code)\n",
    "    \n",
    "    print(\"The HTML code has been copied to your clipboard.\")\n",
    "\n",
    "else:\n",
    "    print(\"Error fetching the contributors\")"
   ]
  }
 ],
 "metadata": {
  "kernelspec": {
   "display_name": "venv-jupyter",
   "language": "python",
   "name": "python3"
  },
  "language_info": {
   "codemirror_mode": {
    "name": "ipython",
    "version": 3
   },
   "file_extension": ".py",
   "mimetype": "text/x-python",
   "name": "python",
   "nbconvert_exporter": "python",
   "pygments_lexer": "ipython3",
   "version": "3.10.11"
  }
 },
 "nbformat": 4,
 "nbformat_minor": 2
}
