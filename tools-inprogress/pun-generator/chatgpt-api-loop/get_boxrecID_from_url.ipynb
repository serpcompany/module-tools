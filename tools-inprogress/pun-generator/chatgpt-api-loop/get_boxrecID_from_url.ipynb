{
 "cells": [
  {
   "cell_type": "code",
   "execution_count": null,
   "metadata": {},
   "outputs": [],
   "source": [
    "import pandas as pd\n",
    "import re\n",
    "\n",
    "def extract_boxrec_id(df):\n",
    "    # Define a function to extract the boxrec_id from the URL using regex\n",
    "    def get_boxrec_id(url):\n",
    "        if isinstance(url, str):  # Check if the input is a string\n",
    "            match = re.search(r'\\d+', url)\n",
    "            return match.group(0) if match else None\n",
    "        return None  # Return None if the input is not a string\n",
    "\n",
    "    # Loop through each row and extract the boxrec_url\n",
    "    df['boxrec_id'] = df['boxrec_url'].apply(get_boxrec_id)\n",
    "\n",
    "    return df\n",
    "\n",
    "# Read the CSV file into a DataFrame\n",
    "input_csv_path = 'file_names.csv'\n",
    "df = pd.read_csv(input_csv_path)\n",
    "\n",
    "# Extract boxrec_id and update the DataFrame\n",
    "df_with_boxrec_id = extract_boxrec_id(df)\n",
    "\n",
    "# Save the updated DataFrame to a new CSV file\n",
    "output_csv_path = 'file_names_with_boxrec_id.csv'\n",
    "df_with_boxrec_id.to_csv(output_csv_path, index=False)\n"
   ]
  }
 ],
 "metadata": {
  "language_info": {
   "name": "python"
  }
 },
 "nbformat": 4,
 "nbformat_minor": 2
}
