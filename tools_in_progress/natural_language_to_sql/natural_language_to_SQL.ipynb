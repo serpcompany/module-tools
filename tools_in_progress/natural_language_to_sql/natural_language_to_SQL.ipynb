{
 "cells": [
  {
   "cell_type": "code",
   "execution_count": null,
   "metadata": {},
   "outputs": [],
   "source": [
    "# README #\n",
    "# Starter code for using Natural Language to generate SQL statements using python."
   ]
  },
  {
   "cell_type": "code",
   "execution_count": null,
   "metadata": {},
   "outputs": [],
   "source": [
    "# Define variables\n",
    "\n",
    "csv = input(\"Enter csv filepath: \")\n",
    "new_table_name = input(\"Enter desired table name: \")\n",
    "\n"
   ]
  },
  {
   "cell_type": "code",
   "execution_count": null,
   "metadata": {},
   "outputs": [],
   "source": [
    "import pandas as pd\n",
    "\n",
    "# Read a CSV file into a pandas dataframe\n",
    "df = pd.read_csv(csv)\n",
    "\n",
    "# define the schema of the dataframe as a dictionary of {column_name: column_type}\n",
    "df_schema = dict(zip(df.columns, df.dtypes))"
   ]
  },
  {
   "cell_type": "code",
   "execution_count": null,
   "metadata": {},
   "outputs": [],
   "source": [
    "# Create a SQL table definition from the dataframe schema\n",
    "\n",
    "def create_db_table(df):\n",
    "    prompt = \"\"\"### Write a mysql statement to create a database table from the dataframe schema\n",
    "    # The table should be named {new_table_name}\n",
    "    # the dataframe schema is as follows: \n",
    "    # \n",
    "    \"\"\""
   ]
  },
  {
   "cell_type": "code",
   "execution_count": null,
   "metadata": {},
   "outputs": [],
   "source": [
    "# Create a SQL query using natural language\n",
    "\n",
    "def optional_sql_query():\n",
    "    nlp_text = input(\"Write what you want the SQL to do : \")\n",
    "    return nlp_text"
   ]
  },
  {
   "cell_type": "code",
   "execution_count": null,
   "metadata": {},
   "outputs": [],
   "source": [
    "# Insert data into the SQL table\n",
    "\n",
    "module_id = input(\"Enter module id: \")\n",
    "\n",
    "table_1_name = input(\"Enter existing table name: \")\n",
    "table_2_name = input(\"Enter existing table name: \")\n",
    "table_3_name = input(\"Enter existing table name: \")\n",
    "\n",
    "table_1_schema = \"\"\"\n",
    "\n",
    "\"\"\"\n",
    "\n",
    "table_2_schema = \"\"\"\n",
    "\n",
    "\"\"\"\n",
    "\n",
    "table_3_schema = \"\"\"\n",
    "\n",
    "\"\"\"\n",
    "\n",
    "def insert_data(df):\n",
    "    prompt = \"\"\"### Write the python functions for mysql import statements to insert data into my db tables for module_id = {module_id}, and based on the following table schemas:\n",
    "    # Table 1 name: {table_1_name}\n",
    "    # Table 1 schema: {table_1_schema}\n",
    "    # Table 2 name: {table_2_name}\n",
    "    # Table 2 schema: {table_2_schema}\n",
    "    # Table 3 name: {table_3_name}\n",
    "    # Table 3 schema: {table_3_schema}\n",
    "    \"\"\"\n",
    "    return prompt"
   ]
  }
 ],
 "metadata": {
  "language_info": {
   "name": "python"
  },
  "orig_nbformat": 4
 },
 "nbformat": 4,
 "nbformat_minor": 2
}
