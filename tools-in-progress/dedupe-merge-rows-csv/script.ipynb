{
 "cells": [
  {
   "cell_type": "markdown",
   "metadata": {},
   "source": [
    "Imports"
   ]
  },
  {
   "cell_type": "code",
   "execution_count": null,
   "metadata": {},
   "outputs": [],
   "source": [
    "# !pip install pandas\n",
    "import pandas as pd"
   ]
  },
  {
   "cell_type": "markdown",
   "metadata": {},
   "source": [
    "VARS"
   ]
  },
  {
   "cell_type": "code",
   "execution_count": null,
   "metadata": {},
   "outputs": [],
   "source": [
    "csv_file_path = 'input.csv'\n",
    "df = pd.read_csv(csv_file_path)"
   ]
  },
  {
   "cell_type": "code",
   "execution_count": null,
   "metadata": {},
   "outputs": [],
   "source": [
    "# df.head()\n",
    "# df.info()\n",
    "\n",
    "\n",
    "# Duplicates ----------\n",
    "print(\"Number of duplicate rows:\", len(df[df.duplicated('account_url', keep=False)]))\n",
    "df[df.duplicated('account_url', keep=False)].sort_values(['account_url'])"
   ]
  },
  {
   "cell_type": "markdown",
   "metadata": {},
   "source": [
    "---"
   ]
  },
  {
   "cell_type": "code",
   "execution_count": null,
   "metadata": {},
   "outputs": [],
   "source": [
    "def consolidate_rows(rows):\n",
    "    \"\"\"Consolidate rows with user input for conflict resolution.\"\"\"\n",
    "    consolidated = rows.iloc[0].copy()  # Start with the first row as the base\n",
    "    for column in rows.columns:\n",
    "        unique_values = rows[column].dropna().unique()\n",
    "        if len(unique_values) > 1:\n",
    "            print(f\"\\nConflict in '{column}' column with values: {unique_values}\")\n",
    "            # Display the DataFrame with the conflicting values for better context\n",
    "            display(rows[[column]])  # Using display() for Jupyter Notebook\n",
    "            chosen_value = input(f\"Choose value to keep for {column} (enter the value exactly as shown, or type 'exit' to stop): \")\n",
    "            if chosen_value.lower() == 'exit':\n",
    "                return None  # Return None to indicate the user wants to exit\n",
    "            consolidated[column] = chosen_value\n",
    "        elif len(unique_values) == 1:\n",
    "            consolidated[column] = unique_values[0]\n",
    "    return consolidated\n",
    "\n",
    "def main(csv_file_path):\n",
    "    df = pd.read_csv(csv_file_path)\n",
    "    duplicates = df[df.duplicated('account_url', keep=False)]\n",
    "    \n",
    "    if duplicates.empty:\n",
    "        print(\"No duplicates found.\")\n",
    "        return df  # Early return if no duplicates\n",
    "    \n",
    "    consolidated_list = []\n",
    "    print(\"\\nStarting the consolidation process...\\n\")\n",
    "    for account_url, group in duplicates.groupby('account_url'):\n",
    "        print(f\"Duplicate group for account_url: {account_url}\")\n",
    "        # Print the entire DataFrame for the current duplicate group\n",
    "        display(group)  # Using display() for Jupyter Notebook\n",
    "        consolidated_row = consolidate_rows(group)\n",
    "        if consolidated_row is None:  # User chose to exit\n",
    "            print(\"Operation stopped by user.\")\n",
    "            return None\n",
    "        consolidated_list.append(consolidated_row)\n",
    "    \n",
    "    consolidated_df = pd.DataFrame(consolidated_list, columns=df.columns)\n",
    "    \n",
    "    # Remove duplicates from original df and append consolidated rows\n",
    "    df = df.drop_duplicates('account_url', keep=False)\n",
    "    df = pd.concat([df, consolidated_df], ignore_index=True)\n",
    "    \n",
    "    return df\n",
    "\n",
    "# Example usage\n",
    "df_processed = main(csv_file_path)\n",
    "if df_processed is not None:\n",
    "    # Save the processed DataFrame to 'result.csv'\n",
    "    df_processed.to_csv('result.csv', index=False)\n",
    "    print(\"Edits saved to result.csv.\")\n",
    "else:\n",
    "    print(\"Operation was stopped. No changes were saved.\")"
   ]
  }
 ],
 "metadata": {
  "kernelspec": {
   "display_name": ".venv",
   "language": "python",
   "name": "python3"
  },
  "language_info": {
   "codemirror_mode": {
    "name": "ipython",
    "version": 3
   },
   "file_extension": ".py",
   "mimetype": "text/x-python",
   "name": "python",
   "nbconvert_exporter": "python",
   "pygments_lexer": "ipython3",
   "version": "3.12.2"
  }
 },
 "nbformat": 4,
 "nbformat_minor": 2
}
